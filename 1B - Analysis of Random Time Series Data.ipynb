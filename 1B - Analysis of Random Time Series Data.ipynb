{
 "cells": [
  {
   "cell_type": "markdown",
   "metadata": {},
   "source": [
    "# Excercise 1: Analysis of Random Time Series Data"
   ]
  },
  {
   "cell_type": "markdown",
   "metadata": {},
   "source": [
    "## Importing necessary libraries"
   ]
  },
  {
   "cell_type": "code",
   "execution_count": 100,
   "metadata": {
    "execution": {
     "iopub.execute_input": "2025-01-09T06:18:14.253328Z",
     "iopub.status.busy": "2025-01-09T06:18:14.252942Z",
     "iopub.status.idle": "2025-01-09T06:18:14.257855Z",
     "shell.execute_reply": "2025-01-09T06:18:14.256567Z",
     "shell.execute_reply.started": "2025-01-09T06:18:14.253289Z"
    },
    "trusted": true
   },
   "outputs": [],
   "source": [
    "import numpy as np \n",
    "import pandas as pd\n",
    "import matplotlib.pyplot as plt\n",
    "import seaborn as sns"
   ]
  },
  {
   "cell_type": "markdown",
   "metadata": {},
   "source": [
    "### Creating a Random set of 80 Values"
   ]
  },
  {
   "cell_type": "code",
   "execution_count": 102,
   "metadata": {
    "execution": {
     "iopub.execute_input": "2025-01-09T06:18:14.316573Z",
     "iopub.status.busy": "2025-01-09T06:18:14.316189Z",
     "iopub.status.idle": "2025-01-09T06:18:14.321013Z",
     "shell.execute_reply": "2025-01-09T06:18:14.319930Z",
     "shell.execute_reply.started": "2025-01-09T06:18:14.316499Z"
    },
    "trusted": true
   },
   "outputs": [],
   "source": [
    "values = np.random.randn(80)"
   ]
  },
  {
   "cell_type": "markdown",
   "metadata": {},
   "source": [
    "### Creating a Date Range of 80 Days"
   ]
  },
  {
   "cell_type": "code",
   "execution_count": 103,
   "metadata": {
    "execution": {
     "iopub.execute_input": "2025-01-09T06:18:14.322856Z",
     "iopub.status.busy": "2025-01-09T06:18:14.322405Z",
     "iopub.status.idle": "2025-01-09T06:18:14.345956Z",
     "shell.execute_reply": "2025-01-09T06:18:14.344989Z",
     "shell.execute_reply.started": "2025-01-09T06:18:14.322816Z"
    },
    "trusted": true
   },
   "outputs": [
    {
     "data": {
      "text/plain": [
       "DatetimeIndex(['2025-01-01', '2025-01-02', '2025-01-03', '2025-01-04',\n",
       "               '2025-01-05', '2025-01-06', '2025-01-07', '2025-01-08',\n",
       "               '2025-01-09', '2025-01-10', '2025-01-11', '2025-01-12',\n",
       "               '2025-01-13', '2025-01-14', '2025-01-15', '2025-01-16',\n",
       "               '2025-01-17', '2025-01-18', '2025-01-19', '2025-01-20',\n",
       "               '2025-01-21', '2025-01-22', '2025-01-23', '2025-01-24',\n",
       "               '2025-01-25', '2025-01-26', '2025-01-27', '2025-01-28',\n",
       "               '2025-01-29', '2025-01-30', '2025-01-31', '2025-02-01',\n",
       "               '2025-02-02', '2025-02-03', '2025-02-04', '2025-02-05',\n",
       "               '2025-02-06', '2025-02-07', '2025-02-08', '2025-02-09',\n",
       "               '2025-02-10', '2025-02-11', '2025-02-12', '2025-02-13',\n",
       "               '2025-02-14', '2025-02-15', '2025-02-16', '2025-02-17',\n",
       "               '2025-02-18', '2025-02-19', '2025-02-20', '2025-02-21',\n",
       "               '2025-02-22', '2025-02-23', '2025-02-24', '2025-02-25',\n",
       "               '2025-02-26', '2025-02-27', '2025-02-28', '2025-03-01',\n",
       "               '2025-03-02', '2025-03-03', '2025-03-04', '2025-03-05',\n",
       "               '2025-03-06', '2025-03-07', '2025-03-08', '2025-03-09',\n",
       "               '2025-03-10', '2025-03-11', '2025-03-12', '2025-03-13',\n",
       "               '2025-03-14', '2025-03-15', '2025-03-16', '2025-03-17',\n",
       "               '2025-03-18', '2025-03-19', '2025-03-20', '2025-03-21'],\n",
       "              dtype='datetime64[ns]', freq='D')"
      ]
     },
     "execution_count": 103,
     "metadata": {},
     "output_type": "execute_result"
    }
   ],
   "source": [
    "dates = pd.date_range(\n",
    "    start='2025-1-1',\n",
    "    end='2025-3-21',\n",
    "    freq='D'\n",
    ")\n",
    "dates"
   ]
  },
  {
   "cell_type": "markdown",
   "metadata": {},
   "source": [
    "### Creating a DataFrame using the dates and values\n",
    "#### And seeing its head and tail"
   ]
  },
  {
   "cell_type": "code",
   "execution_count": 104,
   "metadata": {
    "execution": {
     "iopub.execute_input": "2025-01-09T06:18:14.348125Z",
     "iopub.status.busy": "2025-01-09T06:18:14.347849Z",
     "iopub.status.idle": "2025-01-09T06:18:14.366777Z",
     "shell.execute_reply": "2025-01-09T06:18:14.365463Z",
     "shell.execute_reply.started": "2025-01-09T06:18:14.348102Z"
    },
    "trusted": true
   },
   "outputs": [
    {
     "data": {
      "text/html": [
       "<div>\n",
       "<style scoped>\n",
       "    .dataframe tbody tr th:only-of-type {\n",
       "        vertical-align: middle;\n",
       "    }\n",
       "\n",
       "    .dataframe tbody tr th {\n",
       "        vertical-align: top;\n",
       "    }\n",
       "\n",
       "    .dataframe thead th {\n",
       "        text-align: right;\n",
       "    }\n",
       "</style>\n",
       "<table border=\"1\" class=\"dataframe\">\n",
       "  <thead>\n",
       "    <tr style=\"text-align: right;\">\n",
       "      <th></th>\n",
       "      <th>value</th>\n",
       "    </tr>\n",
       "  </thead>\n",
       "  <tbody>\n",
       "    <tr>\n",
       "      <th>2025-01-01</th>\n",
       "      <td>-0.864158</td>\n",
       "    </tr>\n",
       "    <tr>\n",
       "      <th>2025-01-02</th>\n",
       "      <td>-1.115856</td>\n",
       "    </tr>\n",
       "    <tr>\n",
       "      <th>2025-01-03</th>\n",
       "      <td>0.783843</td>\n",
       "    </tr>\n",
       "    <tr>\n",
       "      <th>2025-01-04</th>\n",
       "      <td>1.344278</td>\n",
       "    </tr>\n",
       "    <tr>\n",
       "      <th>2025-01-05</th>\n",
       "      <td>-0.725181</td>\n",
       "    </tr>\n",
       "  </tbody>\n",
       "</table>\n",
       "</div>"
      ],
      "text/plain": [
       "               value\n",
       "2025-01-01 -0.864158\n",
       "2025-01-02 -1.115856\n",
       "2025-01-03  0.783843\n",
       "2025-01-04  1.344278\n",
       "2025-01-05 -0.725181"
      ]
     },
     "execution_count": 104,
     "metadata": {},
     "output_type": "execute_result"
    }
   ],
   "source": [
    "df = pd.DataFrame(values, index = dates, columns=['value'])\n",
    "df.head()"
   ]
  },
  {
   "cell_type": "code",
   "execution_count": 105,
   "metadata": {
    "execution": {
     "iopub.execute_input": "2025-01-09T06:18:14.368405Z",
     "iopub.status.busy": "2025-01-09T06:18:14.368079Z",
     "iopub.status.idle": "2025-01-09T06:18:14.388859Z",
     "shell.execute_reply": "2025-01-09T06:18:14.387718Z",
     "shell.execute_reply.started": "2025-01-09T06:18:14.368378Z"
    },
    "trusted": true
   },
   "outputs": [
    {
     "data": {
      "text/html": [
       "<div>\n",
       "<style scoped>\n",
       "    .dataframe tbody tr th:only-of-type {\n",
       "        vertical-align: middle;\n",
       "    }\n",
       "\n",
       "    .dataframe tbody tr th {\n",
       "        vertical-align: top;\n",
       "    }\n",
       "\n",
       "    .dataframe thead th {\n",
       "        text-align: right;\n",
       "    }\n",
       "</style>\n",
       "<table border=\"1\" class=\"dataframe\">\n",
       "  <thead>\n",
       "    <tr style=\"text-align: right;\">\n",
       "      <th></th>\n",
       "      <th>value</th>\n",
       "    </tr>\n",
       "  </thead>\n",
       "  <tbody>\n",
       "    <tr>\n",
       "      <th>2025-03-17</th>\n",
       "      <td>1.092892</td>\n",
       "    </tr>\n",
       "    <tr>\n",
       "      <th>2025-03-18</th>\n",
       "      <td>-0.929508</td>\n",
       "    </tr>\n",
       "    <tr>\n",
       "      <th>2025-03-19</th>\n",
       "      <td>-0.478581</td>\n",
       "    </tr>\n",
       "    <tr>\n",
       "      <th>2025-03-20</th>\n",
       "      <td>-0.578443</td>\n",
       "    </tr>\n",
       "    <tr>\n",
       "      <th>2025-03-21</th>\n",
       "      <td>-1.500767</td>\n",
       "    </tr>\n",
       "  </tbody>\n",
       "</table>\n",
       "</div>"
      ],
      "text/plain": [
       "               value\n",
       "2025-03-17  1.092892\n",
       "2025-03-18 -0.929508\n",
       "2025-03-19 -0.478581\n",
       "2025-03-20 -0.578443\n",
       "2025-03-21 -1.500767"
      ]
     },
     "execution_count": 105,
     "metadata": {},
     "output_type": "execute_result"
    }
   ],
   "source": [
    "df.tail()"
   ]
  },
  {
   "cell_type": "markdown",
   "metadata": {},
   "source": [
    "### Demonstrating loc and iloc"
   ]
  },
  {
   "cell_type": "code",
   "execution_count": 106,
   "metadata": {
    "execution": {
     "iopub.execute_input": "2025-01-09T06:18:14.390644Z",
     "iopub.status.busy": "2025-01-09T06:18:14.390207Z",
     "iopub.status.idle": "2025-01-09T06:18:14.410128Z",
     "shell.execute_reply": "2025-01-09T06:18:14.409197Z",
     "shell.execute_reply.started": "2025-01-09T06:18:14.390600Z"
    },
    "trusted": true
   },
   "outputs": [
    {
     "data": {
      "text/html": [
       "<div>\n",
       "<style scoped>\n",
       "    .dataframe tbody tr th:only-of-type {\n",
       "        vertical-align: middle;\n",
       "    }\n",
       "\n",
       "    .dataframe tbody tr th {\n",
       "        vertical-align: top;\n",
       "    }\n",
       "\n",
       "    .dataframe thead th {\n",
       "        text-align: right;\n",
       "    }\n",
       "</style>\n",
       "<table border=\"1\" class=\"dataframe\">\n",
       "  <thead>\n",
       "    <tr style=\"text-align: right;\">\n",
       "      <th></th>\n",
       "      <th>value</th>\n",
       "    </tr>\n",
       "  </thead>\n",
       "  <tbody>\n",
       "    <tr>\n",
       "      <th>2025-01-11</th>\n",
       "      <td>0.101159</td>\n",
       "    </tr>\n",
       "    <tr>\n",
       "      <th>2025-01-12</th>\n",
       "      <td>-0.634152</td>\n",
       "    </tr>\n",
       "    <tr>\n",
       "      <th>2025-01-13</th>\n",
       "      <td>1.011129</td>\n",
       "    </tr>\n",
       "    <tr>\n",
       "      <th>2025-01-14</th>\n",
       "      <td>-1.871272</td>\n",
       "    </tr>\n",
       "    <tr>\n",
       "      <th>2025-01-15</th>\n",
       "      <td>-0.403941</td>\n",
       "    </tr>\n",
       "    <tr>\n",
       "      <th>2025-01-16</th>\n",
       "      <td>-1.199892</td>\n",
       "    </tr>\n",
       "    <tr>\n",
       "      <th>2025-01-17</th>\n",
       "      <td>-0.386251</td>\n",
       "    </tr>\n",
       "    <tr>\n",
       "      <th>2025-01-18</th>\n",
       "      <td>-1.116695</td>\n",
       "    </tr>\n",
       "    <tr>\n",
       "      <th>2025-01-19</th>\n",
       "      <td>-1.104122</td>\n",
       "    </tr>\n",
       "    <tr>\n",
       "      <th>2025-01-20</th>\n",
       "      <td>0.288731</td>\n",
       "    </tr>\n",
       "  </tbody>\n",
       "</table>\n",
       "</div>"
      ],
      "text/plain": [
       "               value\n",
       "2025-01-11  0.101159\n",
       "2025-01-12 -0.634152\n",
       "2025-01-13  1.011129\n",
       "2025-01-14 -1.871272\n",
       "2025-01-15 -0.403941\n",
       "2025-01-16 -1.199892\n",
       "2025-01-17 -0.386251\n",
       "2025-01-18 -1.116695\n",
       "2025-01-19 -1.104122\n",
       "2025-01-20  0.288731"
      ]
     },
     "execution_count": 106,
     "metadata": {},
     "output_type": "execute_result"
    }
   ],
   "source": [
    "df.iloc[10:20]"
   ]
  },
  {
   "cell_type": "code",
   "execution_count": 107,
   "metadata": {
    "execution": {
     "iopub.execute_input": "2025-01-09T06:18:14.411492Z",
     "iopub.status.busy": "2025-01-09T06:18:14.411138Z",
     "iopub.status.idle": "2025-01-09T06:18:14.435834Z",
     "shell.execute_reply": "2025-01-09T06:18:14.434532Z",
     "shell.execute_reply.started": "2025-01-09T06:18:14.411458Z"
    },
    "trusted": true
   },
   "outputs": [
    {
     "data": {
      "text/html": [
       "<div>\n",
       "<style scoped>\n",
       "    .dataframe tbody tr th:only-of-type {\n",
       "        vertical-align: middle;\n",
       "    }\n",
       "\n",
       "    .dataframe tbody tr th {\n",
       "        vertical-align: top;\n",
       "    }\n",
       "\n",
       "    .dataframe thead th {\n",
       "        text-align: right;\n",
       "    }\n",
       "</style>\n",
       "<table border=\"1\" class=\"dataframe\">\n",
       "  <thead>\n",
       "    <tr style=\"text-align: right;\">\n",
       "      <th></th>\n",
       "      <th>value</th>\n",
       "    </tr>\n",
       "  </thead>\n",
       "  <tbody>\n",
       "    <tr>\n",
       "      <th>2025-01-13</th>\n",
       "      <td>1.011129</td>\n",
       "    </tr>\n",
       "    <tr>\n",
       "      <th>2025-01-14</th>\n",
       "      <td>-1.871272</td>\n",
       "    </tr>\n",
       "    <tr>\n",
       "      <th>2025-01-15</th>\n",
       "      <td>-0.403941</td>\n",
       "    </tr>\n",
       "    <tr>\n",
       "      <th>2025-01-16</th>\n",
       "      <td>-1.199892</td>\n",
       "    </tr>\n",
       "    <tr>\n",
       "      <th>2025-01-17</th>\n",
       "      <td>-0.386251</td>\n",
       "    </tr>\n",
       "    <tr>\n",
       "      <th>2025-01-18</th>\n",
       "      <td>-1.116695</td>\n",
       "    </tr>\n",
       "    <tr>\n",
       "      <th>2025-01-19</th>\n",
       "      <td>-1.104122</td>\n",
       "    </tr>\n",
       "    <tr>\n",
       "      <th>2025-01-20</th>\n",
       "      <td>0.288731</td>\n",
       "    </tr>\n",
       "  </tbody>\n",
       "</table>\n",
       "</div>"
      ],
      "text/plain": [
       "               value\n",
       "2025-01-13  1.011129\n",
       "2025-01-14 -1.871272\n",
       "2025-01-15 -0.403941\n",
       "2025-01-16 -1.199892\n",
       "2025-01-17 -0.386251\n",
       "2025-01-18 -1.116695\n",
       "2025-01-19 -1.104122\n",
       "2025-01-20  0.288731"
      ]
     },
     "execution_count": 107,
     "metadata": {},
     "output_type": "execute_result"
    }
   ],
   "source": [
    "df.loc['2025-01-13': '2025-01-20']"
   ]
  },
  {
   "cell_type": "markdown",
   "metadata": {},
   "source": [
    "### Demonstrating plotting using MatPlotLib"
   ]
  },
  {
   "cell_type": "code",
   "execution_count": 108,
   "metadata": {
    "execution": {
     "iopub.execute_input": "2025-01-09T06:18:14.437994Z",
     "iopub.status.busy": "2025-01-09T06:18:14.437667Z",
     "iopub.status.idle": "2025-01-09T06:18:14.684400Z",
     "shell.execute_reply": "2025-01-09T06:18:14.683031Z",
     "shell.execute_reply.started": "2025-01-09T06:18:14.437958Z"
    },
    "trusted": true
   },
   "outputs": [
    {
     "data": {
      "text/plain": [
       "[<matplotlib.lines.Line2D at 0x7d122eb5ad70>]"
      ]
     },
     "execution_count": 108,
     "metadata": {},
     "output_type": "execute_result"
    },
    {
     "data": {
      "image/png": "[encoded data removed]",
      "text/plain": [
       "<Figure size 640x480 with 1 Axes>"
      ]
     },
     "metadata": {},
     "output_type": "display_data"
    }
   ],
   "source": [
    "plt.plot(df)"
   ]
  },
  {
   "cell_type": "code",
   "execution_count": 109,
   "metadata": {
    "execution": {
     "iopub.execute_input": "2025-01-09T06:18:14.686322Z",
     "iopub.status.busy": "2025-01-09T06:18:14.686031Z",
     "iopub.status.idle": "2025-01-09T06:18:14.693422Z",
     "shell.execute_reply": "2025-01-09T06:18:14.692363Z",
     "shell.execute_reply.started": "2025-01-09T06:18:14.686296Z"
    },
    "trusted": true
   },
   "outputs": [
    {
     "data": {
      "text/plain": [
       "Index([2025, 2025, 2025, 2025, 2025, 2025, 2025, 2025, 2025, 2025, 2025, 2025,\n",
       "       2025, 2025, 2025, 2025, 2025, 2025, 2025, 2025, 2025, 2025, 2025, 2025,\n",
       "       2025, 2025, 2025, 2025, 2025, 2025, 2025, 2025, 2025, 2025, 2025, 2025,\n",
       "       2025, 2025, 2025, 2025, 2025, 2025, 2025, 2025, 2025, 2025, 2025, 2025,\n",
       "       2025, 2025, 2025, 2025, 2025, 2025, 2025, 2025, 2025, 2025, 2025, 2025,\n",
       "       2025, 2025, 2025, 2025, 2025, 2025, 2025, 2025, 2025, 2025, 2025, 2025,\n",
       "       2025, 2025, 2025, 2025, 2025, 2025, 2025, 2025],\n",
       "      dtype='int32')"
      ]
     },
     "execution_count": 109,
     "metadata": {},
     "output_type": "execute_result"
    }
   ],
   "source": [
    "df.index.year"
   ]
  },
  {
   "cell_type": "markdown",
   "metadata": {},
   "source": [
    "### Demonstrating Group By"
   ]
  },
  {
   "cell_type": "code",
   "execution_count": 110,
   "metadata": {
    "execution": {
     "iopub.execute_input": "2025-01-09T06:18:14.695236Z",
     "iopub.status.busy": "2025-01-09T06:18:14.694773Z",
     "iopub.status.idle": "2025-01-09T06:18:14.721604Z",
     "shell.execute_reply": "2025-01-09T06:18:14.720092Z",
     "shell.execute_reply.started": "2025-01-09T06:18:14.695193Z"
    },
    "trusted": true
   },
   "outputs": [
    {
     "data": {
      "text/html": [
       "<div>\n",
       "<style scoped>\n",
       "    .dataframe tbody tr th:only-of-type {\n",
       "        vertical-align: middle;\n",
       "    }\n",
       "\n",
       "    .dataframe tbody tr th {\n",
       "        vertical-align: top;\n",
       "    }\n",
       "\n",
       "    .dataframe thead th {\n",
       "        text-align: right;\n",
       "    }\n",
       "</style>\n",
       "<table border=\"1\" class=\"dataframe\">\n",
       "  <thead>\n",
       "    <tr style=\"text-align: right;\">\n",
       "      <th></th>\n",
       "      <th>value</th>\n",
       "    </tr>\n",
       "  </thead>\n",
       "  <tbody>\n",
       "    <tr>\n",
       "      <th>2025</th>\n",
       "      <td>-0.160959</td>\n",
       "    </tr>\n",
       "  </tbody>\n",
       "</table>\n",
       "</div>"
      ],
      "text/plain": [
       "         value\n",
       "2025 -0.160959"
      ]
     },
     "execution_count": 110,
     "metadata": {},
     "output_type": "execute_result"
    }
   ],
   "source": [
    "df.groupby(df.index.year).mean()"
   ]
  },
  {
   "cell_type": "code",
   "execution_count": 111,
   "metadata": {
    "execution": {
     "iopub.execute_input": "2025-01-09T06:18:14.723275Z",
     "iopub.status.busy": "2025-01-09T06:18:14.722901Z",
     "iopub.status.idle": "2025-01-09T06:18:14.747952Z",
     "shell.execute_reply": "2025-01-09T06:18:14.746981Z",
     "shell.execute_reply.started": "2025-01-09T06:18:14.723241Z"
    },
    "trusted": true
   },
   "outputs": [
    {
     "data": {
      "text/html": [
       "<div>\n",
       "<style scoped>\n",
       "    .dataframe tbody tr th:only-of-type {\n",
       "        vertical-align: middle;\n",
       "    }\n",
       "\n",
       "    .dataframe tbody tr th {\n",
       "        vertical-align: top;\n",
       "    }\n",
       "\n",
       "    .dataframe thead th {\n",
       "        text-align: right;\n",
       "    }\n",
       "</style>\n",
       "<table border=\"1\" class=\"dataframe\">\n",
       "  <thead>\n",
       "    <tr style=\"text-align: right;\">\n",
       "      <th></th>\n",
       "      <th>value</th>\n",
       "    </tr>\n",
       "  </thead>\n",
       "  <tbody>\n",
       "    <tr>\n",
       "      <th>1</th>\n",
       "      <td>-0.359566</td>\n",
       "    </tr>\n",
       "    <tr>\n",
       "      <th>2</th>\n",
       "      <td>0.002964</td>\n",
       "    </tr>\n",
       "    <tr>\n",
       "      <th>3</th>\n",
       "      <td>-0.086340</td>\n",
       "    </tr>\n",
       "  </tbody>\n",
       "</table>\n",
       "</div>"
      ],
      "text/plain": [
       "      value\n",
       "1 -0.359566\n",
       "2  0.002964\n",
       "3 -0.086340"
      ]
     },
     "execution_count": 111,
     "metadata": {},
     "output_type": "execute_result"
    }
   ],
   "source": [
    "df.groupby(df.index.month).mean()"
   ]
  },
  {
   "cell_type": "markdown",
   "metadata": {},
   "source": [
    "### Summary Statistics"
   ]
  },
  {
   "cell_type": "code",
   "execution_count": 113,
   "metadata": {
    "execution": {
     "iopub.execute_input": "2025-01-09T06:18:14.799522Z",
     "iopub.status.busy": "2025-01-09T06:18:14.799213Z",
     "iopub.status.idle": "2025-01-09T06:18:14.811977Z",
     "shell.execute_reply": "2025-01-09T06:18:14.810821Z",
     "shell.execute_reply.started": "2025-01-09T06:18:14.799493Z"
    },
    "trusted": true
   },
   "outputs": [
    {
     "data": {
      "text/html": [
       "<div>\n",
       "<style scoped>\n",
       "    .dataframe tbody tr th:only-of-type {\n",
       "        vertical-align: middle;\n",
       "    }\n",
       "\n",
       "    .dataframe tbody tr th {\n",
       "        vertical-align: top;\n",
       "    }\n",
       "\n",
       "    .dataframe thead th {\n",
       "        text-align: right;\n",
       "    }\n",
       "</style>\n",
       "<table border=\"1\" class=\"dataframe\">\n",
       "  <thead>\n",
       "    <tr style=\"text-align: right;\">\n",
       "      <th></th>\n",
       "      <th>value</th>\n",
       "    </tr>\n",
       "  </thead>\n",
       "  <tbody>\n",
       "    <tr>\n",
       "      <th>count</th>\n",
       "      <td>80.000000</td>\n",
       "    </tr>\n",
       "    <tr>\n",
       "      <th>mean</th>\n",
       "      <td>-0.160959</td>\n",
       "    </tr>\n",
       "    <tr>\n",
       "      <th>std</th>\n",
       "      <td>0.977753</td>\n",
       "    </tr>\n",
       "    <tr>\n",
       "      <th>min</th>\n",
       "      <td>-1.998302</td>\n",
       "    </tr>\n",
       "    <tr>\n",
       "      <th>25%</th>\n",
       "      <td>-0.947081</td>\n",
       "    </tr>\n",
       "    <tr>\n",
       "      <th>50%</th>\n",
       "      <td>-0.230467</td>\n",
       "    </tr>\n",
       "    <tr>\n",
       "      <th>75%</th>\n",
       "      <td>0.416997</td>\n",
       "    </tr>\n",
       "    <tr>\n",
       "      <th>max</th>\n",
       "      <td>2.349598</td>\n",
       "    </tr>\n",
       "  </tbody>\n",
       "</table>\n",
       "</div>"
      ],
      "text/plain": [
       "           value\n",
       "count  80.000000\n",
       "mean   -0.160959\n",
       "std     0.977753\n",
       "min    -1.998302\n",
       "25%    -0.947081\n",
       "50%    -0.230467\n",
       "75%     0.416997\n",
       "max     2.349598"
      ]
     },
     "execution_count": 113,
     "metadata": {},
     "output_type": "execute_result"
    }
   ],
   "source": [
    "df.describe()"
   ]
  },
  {
   "cell_type": "code",
   "execution_count": 114,
   "metadata": {
    "execution": {
     "iopub.execute_input": "2025-01-09T06:18:14.814198Z",
     "iopub.status.busy": "2025-01-09T06:18:14.813707Z",
     "iopub.status.idle": "2025-01-09T06:18:14.834718Z",
     "shell.execute_reply": "2025-01-09T06:18:14.833682Z",
     "shell.execute_reply.started": "2025-01-09T06:18:14.814154Z"
    },
    "trusted": true
   },
   "outputs": [
    {
     "name": "stdout",
     "output_type": "stream",
     "text": [
      "<class 'pandas.core.frame.DataFrame'>\n",
      "DatetimeIndex: 80 entries, 2025-01-01 to 2025-03-21\n",
      "Freq: D\n",
      "Data columns (total 1 columns):\n",
      " #   Column  Non-Null Count  Dtype  \n",
      "---  ------  --------------  -----  \n",
      " 0   value   80 non-null     float64\n",
      "dtypes: float64(1)\n",
      "memory usage: 3.3 KB\n"
     ]
    }
   ],
   "source": [
    "df.info()"
   ]
  }
 ],
 "metadata": {
  "kaggle": {
   "accelerator": "none",
   "dataSources": [
    {
     "datasetId": 298063,
     "sourceId": 610583,
     "sourceType": "datasetVersion"
    }
   ],
   "dockerImageVersionId": 30822,
   "isGpuEnabled": false,
   "isInternetEnabled": false,
   "language": "python",
   "sourceType": "notebook"
  },
  "kernelspec": {
   "display_name": "Python 3",
   "language": "python",
   "name": "python3"
  },
  "language_info": {
   "codemirror_mode": {
    "name": "ipython",
    "version": 3
   },
   "file_extension": ".py",
   "mimetype": "text/x-python",
   "name": "python",
   "nbconvert_exporter": "python",
   "pygments_lexer": "ipython3",
   "version": "3.10.12"
  }
 },
 "nbformat": 4,
 "nbformat_minor": 4
}
